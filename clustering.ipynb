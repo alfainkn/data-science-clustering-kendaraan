{
 "cells": [
  {
   "cell_type": "code",
   "execution_count": 1,
   "id": "794943ac",
   "metadata": {},
   "outputs": [
    {
     "ename": "ModuleNotFoundError",
     "evalue": "No module named 'pandas'",
     "output_type": "error",
     "traceback": [
      "\u001b[1;31m---------------------------------------------------------------------------\u001b[0m",
      "\u001b[1;31mModuleNotFoundError\u001b[0m                       Traceback (most recent call last)",
      "\u001b[1;32m~\\AppData\\Local\\Temp\\ipykernel_19088\\3338739364.py\u001b[0m in \u001b[0;36m<module>\u001b[1;34m\u001b[0m\n\u001b[0;32m      1\u001b[0m \u001b[1;31m#Importing the Libraries\u001b[0m\u001b[1;33m\u001b[0m\u001b[1;33m\u001b[0m\u001b[1;33m\u001b[0m\u001b[0m\n\u001b[0;32m      2\u001b[0m \u001b[1;32mimport\u001b[0m \u001b[0mnumpy\u001b[0m \u001b[1;32mas\u001b[0m \u001b[0mnp\u001b[0m\u001b[1;33m\u001b[0m\u001b[1;33m\u001b[0m\u001b[0m\n\u001b[1;32m----> 3\u001b[1;33m \u001b[1;32mimport\u001b[0m \u001b[0mpandas\u001b[0m \u001b[1;32mas\u001b[0m \u001b[0mpd\u001b[0m\u001b[1;33m\u001b[0m\u001b[1;33m\u001b[0m\u001b[0m\n\u001b[0m\u001b[0;32m      4\u001b[0m \u001b[1;32mimport\u001b[0m \u001b[0mdatetime\u001b[0m\u001b[1;33m\u001b[0m\u001b[1;33m\u001b[0m\u001b[0m\n\u001b[0;32m      5\u001b[0m \u001b[1;32mimport\u001b[0m \u001b[0mmatplotlib\u001b[0m\u001b[1;33m\u001b[0m\u001b[1;33m\u001b[0m\u001b[0m\n",
      "\u001b[1;31mModuleNotFoundError\u001b[0m: No module named 'pandas'"
     ]
    }
   ],
   "source": [
    "#Importing the Libraries\n",
    "import numpy as np\n",
    "import pandas as pd\n",
    "import datetime\n",
    "import matplotlib\n",
    "import matplotlib.pyplot as plt\n",
    "from matplotlib import colors\n",
    "from matplotlib import cm\n",
    "import matplotlib.cm as cm\n",
    "import seaborn as sns\n",
    "from sklearn.preprocessing import LabelEncoder\n",
    "from sklearn.preprocessing import StandardScaler\n",
    "from sklearn.decomposition import PCA\n",
    "#from yellowbrick.cluster import KElbowVisualizer\n",
    "from sklearn.cluster import KMeans\n",
    "import matplotlib.pyplot as plt, numpy as np\n",
    "from mpl_toolkits.mplot3d import Axes3D\n",
    "from sklearn.cluster import AgglomerativeClustering\n",
    "from matplotlib.colors import ListedColormap\n",
    "from sklearn import metrics\n",
    "import warnings\n",
    "import sys\n",
    "if not sys.warnoptions:\n",
    "    warnings.simplefilter(\"ignore\")\n",
    "np.random.seed(42)"
   ]
  },
  {
   "cell_type": "code",
   "execution_count": 2,
   "id": "964d49c2",
   "metadata": {},
   "outputs": [
    {
     "ename": "NameError",
     "evalue": "name 'pd' is not defined",
     "output_type": "error",
     "traceback": [
      "\u001b[1;31m---------------------------------------------------------------------------\u001b[0m",
      "\u001b[1;31mNameError\u001b[0m                                 Traceback (most recent call last)",
      "\u001b[1;32m~\\AppData\\Local\\Temp\\ipykernel_19088\\3812227193.py\u001b[0m in \u001b[0;36m<module>\u001b[1;34m\u001b[0m\n\u001b[1;32m----> 1\u001b[1;33m \u001b[0mdataset\u001b[0m \u001b[1;33m=\u001b[0m \u001b[0mpd\u001b[0m\u001b[1;33m.\u001b[0m\u001b[0mread_csv\u001b[0m\u001b[1;33m(\u001b[0m\u001b[1;34m'kendaraan_train.csv'\u001b[0m\u001b[1;33m)\u001b[0m\u001b[1;33m\u001b[0m\u001b[1;33m\u001b[0m\u001b[0m\n\u001b[0m\u001b[0;32m      2\u001b[0m \u001b[0mdataset\u001b[0m\u001b[1;33m.\u001b[0m\u001b[0mhead\u001b[0m\u001b[1;33m(\u001b[0m\u001b[1;36m10\u001b[0m\u001b[1;33m)\u001b[0m\u001b[1;33m\u001b[0m\u001b[1;33m\u001b[0m\u001b[0m\n",
      "\u001b[1;31mNameError\u001b[0m: name 'pd' is not defined"
     ]
    }
   ],
   "source": [
    "dataset = pd.read_csv('kendaraan_train.csv')\n",
    "dataset.head(10)"
   ]
  },
  {
   "cell_type": "code",
   "execution_count": 4,
   "id": "145e2daf",
   "metadata": {},
   "outputs": [
    {
     "data": {
      "text/plain": [
       "(285831, 12)"
      ]
     },
     "execution_count": 4,
     "metadata": {},
     "output_type": "execute_result"
    }
   ],
   "source": [
    "dataset.shape"
   ]
  },
  {
   "cell_type": "code",
   "execution_count": 5,
   "id": "27055b67",
   "metadata": {},
   "outputs": [
    {
     "name": "stdout",
     "output_type": "stream",
     "text": [
      "<class 'pandas.core.frame.DataFrame'>\n",
      "RangeIndex: 285831 entries, 0 to 285830\n",
      "Data columns (total 12 columns):\n",
      " #   Column             Non-Null Count   Dtype  \n",
      "---  ------             --------------   -----  \n",
      " 0   id                 285831 non-null  int64  \n",
      " 1   Jenis_Kelamin      271391 non-null  object \n",
      " 2   Umur               271617 non-null  float64\n",
      " 3   SIM                271427 non-null  float64\n",
      " 4   Kode_Daerah        271525 non-null  float64\n",
      " 5   Sudah_Asuransi     271602 non-null  float64\n",
      " 6   Umur_Kendaraan     271556 non-null  object \n",
      " 7   Kendaraan_Rusak    271643 non-null  object \n",
      " 8   Premi              271262 non-null  float64\n",
      " 9   Kanal_Penjualan    271532 non-null  float64\n",
      " 10  Lama_Berlangganan  271839 non-null  float64\n",
      " 11  Tertarik           285831 non-null  int64  \n",
      "dtypes: float64(7), int64(2), object(3)\n",
      "memory usage: 26.2+ MB\n"
     ]
    }
   ],
   "source": [
    "dataset.info()"
   ]
  },
  {
   "cell_type": "code",
   "execution_count": 6,
   "id": "d8493586",
   "metadata": {},
   "outputs": [
    {
     "name": "stdout",
     "output_type": "stream",
     "text": [
      "The total number of data-points after removing the rows with missing values are: 171068\n"
     ]
    }
   ],
   "source": [
    "#data cleaning\n",
    "#remove Na Values\n",
    "data = dataset.dropna()\n",
    "print(\"The total number of data-points after removing the rows with missing values are:\", len(data))"
   ]
  },
  {
   "cell_type": "code",
   "execution_count": 7,
   "id": "92dd7061",
   "metadata": {},
   "outputs": [
    {
     "data": {
      "text/html": [
       "<div>\n",
       "<style scoped>\n",
       "    .dataframe tbody tr th:only-of-type {\n",
       "        vertical-align: middle;\n",
       "    }\n",
       "\n",
       "    .dataframe tbody tr th {\n",
       "        vertical-align: top;\n",
       "    }\n",
       "\n",
       "    .dataframe thead th {\n",
       "        text-align: right;\n",
       "    }\n",
       "</style>\n",
       "<table border=\"1\" class=\"dataframe\">\n",
       "  <thead>\n",
       "    <tr style=\"text-align: right;\">\n",
       "      <th></th>\n",
       "      <th>id</th>\n",
       "      <th>Umur</th>\n",
       "      <th>SIM</th>\n",
       "      <th>Kode_Daerah</th>\n",
       "      <th>Sudah_Asuransi</th>\n",
       "      <th>Premi</th>\n",
       "      <th>Kanal_Penjualan</th>\n",
       "      <th>Lama_Berlangganan</th>\n",
       "      <th>Tertarik</th>\n",
       "    </tr>\n",
       "  </thead>\n",
       "  <tbody>\n",
       "    <tr>\n",
       "      <th>count</th>\n",
       "      <td>171068.000000</td>\n",
       "      <td>171068.000000</td>\n",
       "      <td>171068.000000</td>\n",
       "      <td>171068.000000</td>\n",
       "      <td>171068.000000</td>\n",
       "      <td>171068.000000</td>\n",
       "      <td>171068.000000</td>\n",
       "      <td>171068.000000</td>\n",
       "      <td>171068.000000</td>\n",
       "    </tr>\n",
       "    <tr>\n",
       "      <th>mean</th>\n",
       "      <td>142794.020729</td>\n",
       "      <td>38.818137</td>\n",
       "      <td>0.997931</td>\n",
       "      <td>26.411334</td>\n",
       "      <td>0.459794</td>\n",
       "      <td>30506.747282</td>\n",
       "      <td>112.260206</td>\n",
       "      <td>154.253063</td>\n",
       "      <td>0.121577</td>\n",
       "    </tr>\n",
       "    <tr>\n",
       "      <th>std</th>\n",
       "      <td>82491.716355</td>\n",
       "      <td>15.531695</td>\n",
       "      <td>0.045443</td>\n",
       "      <td>13.262377</td>\n",
       "      <td>0.498382</td>\n",
       "      <td>17090.409733</td>\n",
       "      <td>54.106712</td>\n",
       "      <td>83.862579</td>\n",
       "      <td>0.326798</td>\n",
       "    </tr>\n",
       "    <tr>\n",
       "      <th>min</th>\n",
       "      <td>1.000000</td>\n",
       "      <td>20.000000</td>\n",
       "      <td>0.000000</td>\n",
       "      <td>0.000000</td>\n",
       "      <td>0.000000</td>\n",
       "      <td>2630.000000</td>\n",
       "      <td>1.000000</td>\n",
       "      <td>10.000000</td>\n",
       "      <td>0.000000</td>\n",
       "    </tr>\n",
       "    <tr>\n",
       "      <th>25%</th>\n",
       "      <td>71350.750000</td>\n",
       "      <td>25.000000</td>\n",
       "      <td>1.000000</td>\n",
       "      <td>15.000000</td>\n",
       "      <td>0.000000</td>\n",
       "      <td>24369.750000</td>\n",
       "      <td>29.000000</td>\n",
       "      <td>81.000000</td>\n",
       "      <td>0.000000</td>\n",
       "    </tr>\n",
       "    <tr>\n",
       "      <th>50%</th>\n",
       "      <td>142768.000000</td>\n",
       "      <td>36.000000</td>\n",
       "      <td>1.000000</td>\n",
       "      <td>28.000000</td>\n",
       "      <td>0.000000</td>\n",
       "      <td>31603.000000</td>\n",
       "      <td>140.000000</td>\n",
       "      <td>154.000000</td>\n",
       "      <td>0.000000</td>\n",
       "    </tr>\n",
       "    <tr>\n",
       "      <th>75%</th>\n",
       "      <td>214070.250000</td>\n",
       "      <td>49.000000</td>\n",
       "      <td>1.000000</td>\n",
       "      <td>35.000000</td>\n",
       "      <td>1.000000</td>\n",
       "      <td>39323.250000</td>\n",
       "      <td>152.000000</td>\n",
       "      <td>227.000000</td>\n",
       "      <td>0.000000</td>\n",
       "    </tr>\n",
       "    <tr>\n",
       "      <th>max</th>\n",
       "      <td>285831.000000</td>\n",
       "      <td>85.000000</td>\n",
       "      <td>1.000000</td>\n",
       "      <td>52.000000</td>\n",
       "      <td>1.000000</td>\n",
       "      <td>540165.000000</td>\n",
       "      <td>163.000000</td>\n",
       "      <td>299.000000</td>\n",
       "      <td>1.000000</td>\n",
       "    </tr>\n",
       "  </tbody>\n",
       "</table>\n",
       "</div>"
      ],
      "text/plain": [
       "                  id           Umur            SIM    Kode_Daerah  \\\n",
       "count  171068.000000  171068.000000  171068.000000  171068.000000   \n",
       "mean   142794.020729      38.818137       0.997931      26.411334   \n",
       "std     82491.716355      15.531695       0.045443      13.262377   \n",
       "min         1.000000      20.000000       0.000000       0.000000   \n",
       "25%     71350.750000      25.000000       1.000000      15.000000   \n",
       "50%    142768.000000      36.000000       1.000000      28.000000   \n",
       "75%    214070.250000      49.000000       1.000000      35.000000   \n",
       "max    285831.000000      85.000000       1.000000      52.000000   \n",
       "\n",
       "       Sudah_Asuransi          Premi  Kanal_Penjualan  Lama_Berlangganan  \\\n",
       "count   171068.000000  171068.000000    171068.000000      171068.000000   \n",
       "mean         0.459794   30506.747282       112.260206         154.253063   \n",
       "std          0.498382   17090.409733        54.106712          83.862579   \n",
       "min          0.000000    2630.000000         1.000000          10.000000   \n",
       "25%          0.000000   24369.750000        29.000000          81.000000   \n",
       "50%          0.000000   31603.000000       140.000000         154.000000   \n",
       "75%          1.000000   39323.250000       152.000000         227.000000   \n",
       "max          1.000000  540165.000000       163.000000         299.000000   \n",
       "\n",
       "            Tertarik  \n",
       "count  171068.000000  \n",
       "mean        0.121577  \n",
       "std         0.326798  \n",
       "min         0.000000  \n",
       "25%         0.000000  \n",
       "50%         0.000000  \n",
       "75%         0.000000  \n",
       "max         1.000000  "
      ]
     },
     "execution_count": 7,
     "metadata": {},
     "output_type": "execute_result"
    }
   ],
   "source": [
    "data.describe()"
   ]
  },
  {
   "cell_type": "code",
   "execution_count": 8,
   "id": "864b8816",
   "metadata": {},
   "outputs": [
    {
     "name": "stdout",
     "output_type": "stream",
     "text": [
      "All features are now numerical\n"
     ]
    }
   ],
   "source": [
    "#Data preprocessing\n",
    "#change data type object to Numeric\n",
    "s = (data.dtypes == 'object')\n",
    "object_cols = list(s[s].index)\n",
    "\n",
    "LE=LabelEncoder()\n",
    "for i in object_cols:\n",
    "    data[i]=data[[i]].apply(LE.fit_transform)\n",
    "    \n",
    "print(\"All features are now numerical\")"
   ]
  },
  {
   "cell_type": "code",
   "execution_count": 9,
   "id": "4b33147b",
   "metadata": {},
   "outputs": [
    {
     "name": "stdout",
     "output_type": "stream",
     "text": [
      "All features are now scaled\n"
     ]
    }
   ],
   "source": [
    "#Creating a copy of data\n",
    "ds = data.copy()\n",
    "# drop unused label \"tertarik\"\n",
    "cols_del = ['Tertarik','id']\n",
    "ds = ds.drop(cols_del, axis=1)\n",
    "#Scaling\n",
    "scaler = StandardScaler()\n",
    "scaler.fit(ds)\n",
    "scaled_ds = pd.DataFrame(scaler.transform(ds),columns= ds.columns )\n",
    "print(\"All features are now scaled\")"
   ]
  },
  {
   "cell_type": "code",
   "execution_count": 10,
   "id": "dbce1edb",
   "metadata": {},
   "outputs": [
    {
     "name": "stdout",
     "output_type": "stream",
     "text": [
      "Dataframe to be used for further modelling:\n"
     ]
    },
    {
     "data": {
      "text/html": [
       "<div>\n",
       "<style scoped>\n",
       "    .dataframe tbody tr th:only-of-type {\n",
       "        vertical-align: middle;\n",
       "    }\n",
       "\n",
       "    .dataframe tbody tr th {\n",
       "        vertical-align: top;\n",
       "    }\n",
       "\n",
       "    .dataframe thead th {\n",
       "        text-align: right;\n",
       "    }\n",
       "</style>\n",
       "<table border=\"1\" class=\"dataframe\">\n",
       "  <thead>\n",
       "    <tr style=\"text-align: right;\">\n",
       "      <th></th>\n",
       "      <th>Jenis_Kelamin</th>\n",
       "      <th>Umur</th>\n",
       "      <th>SIM</th>\n",
       "      <th>Kode_Daerah</th>\n",
       "      <th>Sudah_Asuransi</th>\n",
       "      <th>Umur_Kendaraan</th>\n",
       "      <th>Kendaraan_Rusak</th>\n",
       "      <th>Premi</th>\n",
       "      <th>Kanal_Penjualan</th>\n",
       "      <th>Lama_Berlangganan</th>\n",
       "    </tr>\n",
       "  </thead>\n",
       "  <tbody>\n",
       "    <tr>\n",
       "      <th>0</th>\n",
       "      <td>1.084918</td>\n",
       "      <td>-0.567753</td>\n",
       "      <td>0.045537</td>\n",
       "      <td>0.496795</td>\n",
       "      <td>1.083923</td>\n",
       "      <td>0.834940</td>\n",
       "      <td>1.008925</td>\n",
       "      <td>-0.144979</td>\n",
       "      <td>0.734473</td>\n",
       "      <td>-0.682703</td>\n",
       "    </tr>\n",
       "    <tr>\n",
       "      <th>1</th>\n",
       "      <td>-0.921729</td>\n",
       "      <td>0.591171</td>\n",
       "      <td>0.045537</td>\n",
       "      <td>0.949204</td>\n",
       "      <td>-0.922575</td>\n",
       "      <td>2.566442</td>\n",
       "      <td>-0.991154</td>\n",
       "      <td>-0.275404</td>\n",
       "      <td>-1.538819</td>\n",
       "      <td>0.044680</td>\n",
       "    </tr>\n",
       "    <tr>\n",
       "      <th>2</th>\n",
       "      <td>1.084918</td>\n",
       "      <td>1.235018</td>\n",
       "      <td>0.045537</td>\n",
       "      <td>1.627818</td>\n",
       "      <td>-0.922575</td>\n",
       "      <td>-0.896561</td>\n",
       "      <td>1.008925</td>\n",
       "      <td>-1.631139</td>\n",
       "      <td>0.216975</td>\n",
       "      <td>-1.088129</td>\n",
       "    </tr>\n",
       "    <tr>\n",
       "      <th>3</th>\n",
       "      <td>-0.921729</td>\n",
       "      <td>-1.147215</td>\n",
       "      <td>0.045537</td>\n",
       "      <td>0.647598</td>\n",
       "      <td>1.083923</td>\n",
       "      <td>0.834940</td>\n",
       "      <td>1.008925</td>\n",
       "      <td>-0.454745</td>\n",
       "      <td>0.734473</td>\n",
       "      <td>0.199696</td>\n",
       "    </tr>\n",
       "    <tr>\n",
       "      <th>4</th>\n",
       "      <td>1.084918</td>\n",
       "      <td>-1.211599</td>\n",
       "      <td>0.045537</td>\n",
       "      <td>-1.388242</td>\n",
       "      <td>1.083923</td>\n",
       "      <td>0.834940</td>\n",
       "      <td>1.008925</td>\n",
       "      <td>0.016340</td>\n",
       "      <td>0.882329</td>\n",
       "      <td>-1.469707</td>\n",
       "    </tr>\n",
       "  </tbody>\n",
       "</table>\n",
       "</div>"
      ],
      "text/plain": [
       "   Jenis_Kelamin      Umur       SIM  Kode_Daerah  Sudah_Asuransi  \\\n",
       "0       1.084918 -0.567753  0.045537     0.496795        1.083923   \n",
       "1      -0.921729  0.591171  0.045537     0.949204       -0.922575   \n",
       "2       1.084918  1.235018  0.045537     1.627818       -0.922575   \n",
       "3      -0.921729 -1.147215  0.045537     0.647598        1.083923   \n",
       "4       1.084918 -1.211599  0.045537    -1.388242        1.083923   \n",
       "\n",
       "   Umur_Kendaraan  Kendaraan_Rusak     Premi  Kanal_Penjualan  \\\n",
       "0        0.834940         1.008925 -0.144979         0.734473   \n",
       "1        2.566442        -0.991154 -0.275404        -1.538819   \n",
       "2       -0.896561         1.008925 -1.631139         0.216975   \n",
       "3        0.834940         1.008925 -0.454745         0.734473   \n",
       "4        0.834940         1.008925  0.016340         0.882329   \n",
       "\n",
       "   Lama_Berlangganan  \n",
       "0          -0.682703  \n",
       "1           0.044680  \n",
       "2          -1.088129  \n",
       "3           0.199696  \n",
       "4          -1.469707  "
      ]
     },
     "execution_count": 10,
     "metadata": {},
     "output_type": "execute_result"
    }
   ],
   "source": [
    "#Dimentional reduction\n",
    "#Scaled data to be used for reducing the dimensionality\n",
    "print(\"Dataframe to be used for further modelling:\")\n",
    "scaled_ds.head()"
   ]
  },
  {
   "cell_type": "code",
   "execution_count": 11,
   "id": "6bfbb72f",
   "metadata": {},
   "outputs": [
    {
     "data": {
      "text/html": [
       "<div>\n",
       "<style scoped>\n",
       "    .dataframe tbody tr th:only-of-type {\n",
       "        vertical-align: middle;\n",
       "    }\n",
       "\n",
       "    .dataframe tbody tr th {\n",
       "        vertical-align: top;\n",
       "    }\n",
       "\n",
       "    .dataframe thead th {\n",
       "        text-align: right;\n",
       "    }\n",
       "</style>\n",
       "<table border=\"1\" class=\"dataframe\">\n",
       "  <thead>\n",
       "    <tr style=\"text-align: right;\">\n",
       "      <th></th>\n",
       "      <th>count</th>\n",
       "      <th>mean</th>\n",
       "      <th>std</th>\n",
       "      <th>min</th>\n",
       "      <th>25%</th>\n",
       "      <th>50%</th>\n",
       "      <th>75%</th>\n",
       "      <th>max</th>\n",
       "    </tr>\n",
       "  </thead>\n",
       "  <tbody>\n",
       "    <tr>\n",
       "      <th>col1</th>\n",
       "      <td>171068.0</td>\n",
       "      <td>5.366411e-17</td>\n",
       "      <td>1.586945</td>\n",
       "      <td>-2.572379</td>\n",
       "      <td>-1.768818</td>\n",
       "      <td>0.012035</td>\n",
       "      <td>1.306319</td>\n",
       "      <td>4.866285</td>\n",
       "    </tr>\n",
       "    <tr>\n",
       "      <th>col2</th>\n",
       "      <td>171068.0</td>\n",
       "      <td>-6.803546e-17</td>\n",
       "      <td>1.174538</td>\n",
       "      <td>-3.042674</td>\n",
       "      <td>-0.787041</td>\n",
       "      <td>0.104460</td>\n",
       "      <td>0.446830</td>\n",
       "      <td>6.181812</td>\n",
       "    </tr>\n",
       "    <tr>\n",
       "      <th>col3</th>\n",
       "      <td>171068.0</td>\n",
       "      <td>-4.901211e-18</td>\n",
       "      <td>1.011627</td>\n",
       "      <td>-2.684264</td>\n",
       "      <td>-0.599997</td>\n",
       "      <td>0.042308</td>\n",
       "      <td>0.615271</td>\n",
       "      <td>25.221256</td>\n",
       "    </tr>\n",
       "  </tbody>\n",
       "</table>\n",
       "</div>"
      ],
      "text/plain": [
       "         count          mean       std       min       25%       50%  \\\n",
       "col1  171068.0  5.366411e-17  1.586945 -2.572379 -1.768818  0.012035   \n",
       "col2  171068.0 -6.803546e-17  1.174538 -3.042674 -0.787041  0.104460   \n",
       "col3  171068.0 -4.901211e-18  1.011627 -2.684264 -0.599997  0.042308   \n",
       "\n",
       "           75%        max  \n",
       "col1  1.306319   4.866285  \n",
       "col2  0.446830   6.181812  \n",
       "col3  0.615271  25.221256  "
      ]
     },
     "execution_count": 11,
     "metadata": {},
     "output_type": "execute_result"
    }
   ],
   "source": [
    "#Initiating PCA to reduce dimentions aka features to 3\n",
    "pca = PCA(n_components=3)\n",
    "pca.fit(scaled_ds)\n",
    "PCA_ds = pd.DataFrame(pca.transform(scaled_ds), columns=([\"col1\",\"col2\", \"col3\"]))\n",
    "PCA_ds.describe().T"
   ]
  },
  {
   "cell_type": "code",
   "execution_count": 12,
   "id": "bf32e464",
   "metadata": {},
   "outputs": [
    {
     "data": {
      "image/png": "[encoded data removed]",
      "text/plain": [
       "<Figure size 720x576 with 1 Axes>"
      ]
     },
     "metadata": {
      "needs_background": "light"
     },
     "output_type": "display_data"
    }
   ],
   "source": [
    "#A 3D Projection Of Data In The Reduced Dimension\n",
    "x =PCA_ds[\"col1\"]\n",
    "y =PCA_ds[\"col2\"]\n",
    "z =PCA_ds[\"col3\"]\n",
    "#To plot\n",
    "fig = plt.figure(figsize=(10,8))\n",
    "ax = fig.add_subplot(111, projection=\"3d\")\n",
    "ax.scatter(x,y,z, c=\"maroon\", marker=\"o\" )\n",
    "ax.set_title(\"A 3D Projection Of Data In The Reduced Dimension\")\n",
    "plt.show()"
   ]
  },
  {
   "cell_type": "code",
   "execution_count": 13,
   "id": "9fd9dbe3",
   "metadata": {},
   "outputs": [],
   "source": [
    "#Model\n",
    "#KMeans Algorithm to decide the optimum cluster number , KMeans++ using Elbow Mmethod\n",
    "#to figure out K for KMeans, I will use ELBOW Method on KMEANS++ Calculation\n",
    "from sklearn.cluster import KMeans\n",
    "wcss=[]\n",
    "\n",
    "#we always assume the max number of cluster would be 10\n",
    "#you can judge the number of clusters by doing averaging\n",
    "###Static code to get max no of clusters\n",
    "\n",
    "for i in range(1,11):\n",
    "    kmeans = KMeans(n_clusters= i, init='k-means++', random_state=0)\n",
    "    kmeans.fit(PCA_ds)\n",
    "    wcss.append(kmeans.inertia_)\n",
    "\n",
    "    #inertia_ is the formula used to segregate the data points into clus"
   ]
  },
  {
   "cell_type": "code",
   "execution_count": 14,
   "id": "6648eb5a",
   "metadata": {},
   "outputs": [
    {
     "data": {
      "image/png": "[encoded data removed]",
      "text/plain": [
       "<Figure size 432x288 with 1 Axes>"
      ]
     },
     "metadata": {
      "needs_background": "light"
     },
     "output_type": "display_data"
    }
   ],
   "source": [
    "#Visualizing the ELBOW method to get the optimal value of K \n",
    "plt.plot(range(1,11), wcss)\n",
    "plt.title('The Elbow Method')\n",
    "plt.xlabel('no of clusters')\n",
    "plt.ylabel('wcss')\n",
    "plt.show()"
   ]
  },
  {
   "cell_type": "code",
   "execution_count": 15,
   "id": "c6d64f3a",
   "metadata": {},
   "outputs": [],
   "source": [
    "#Model Build\n",
    "kmeansmodel = KMeans(n_clusters= 4, init='k-means++', random_state=0)\n",
    "y_kmeans= kmeansmodel.fit_predict(PCA_ds)"
   ]
  },
  {
   "cell_type": "code",
   "execution_count": null,
   "id": "7e87cb69",
   "metadata": {},
   "outputs": [],
   "source": [
    "PCA_ds[\"Clusters\"] = y_kmeans\n",
    "#Adding the Clusters feature to the orignal dataframe.\n",
    "data[\"Clusters\"]= y_kmeans"
   ]
  },
  {
   "cell_type": "code",
   "execution_count": null,
   "id": "04de837d",
   "metadata": {},
   "outputs": [],
   "source": [
    "#Plotting countplot of clusters\n",
    "pal = [\"#682F2F\",\"#B9C0C9\", \"#9F8A78\",\"#F3AB60\"]\n",
    "pl = sns.countplot(x=data[\"Clusters\"], palette= pal)\n",
    "pl.set_title(\"Distribution Of The Clusters\")\n",
    "plt.show()"
   ]
  },
  {
   "cell_type": "code",
   "execution_count": null,
   "id": "1c3e73f1",
   "metadata": {},
   "outputs": [],
   "source": [
    "pl = sns.scatterplot(data = data,x=data[\"Sudah_Asuransi\"], y=data[\"Kendaraan_Rusak\"],hue=data[\"Clusters\"], palette= pal)\n",
    "pl.set_title(\"Cluster's Profile berdasarkan Sudah Asuransi dan Kendaraan Rusak\")\n",
    "plt.legend()\n",
    "plt.show()"
   ]
  },
  {
   "cell_type": "code",
   "execution_count": null,
   "id": "39b8b3b0",
   "metadata": {},
   "outputs": [],
   "source": [
    "plt.figure()\n",
    "pl=sns.swarmplot(x=data[\"Clusters\"], y=data[\"Premi\"], color= \"#CBEDDD\", alpha=0.5 )\n",
    "pl=sns.boxenplot(x=data[\"Clusters\"], y=data[\"Premi\"], palette=pal)\n",
    "plt.show()"
   ]
  },
  {
   "cell_type": "code",
   "execution_count": null,
   "id": "11ea21a2",
   "metadata": {},
   "outputs": [],
   "source": [
    "#Plotting the number of deals purchased\n",
    "plt.figure()\n",
    "pl=sns.boxenplot(y=data[\"SIM\"],x=data[\"Clusters\"], palette= pal)\n",
    "pl.set_title(\"Number of Deals Purchased\")\n",
    "plt.show()\n"
   ]
  },
  {
   "cell_type": "code",
   "execution_count": null,
   "id": "5a7b3280",
   "metadata": {},
   "outputs": [],
   "source": []
  }
 ],
 "metadata": {
  "kernelspec": {
   "display_name": "Python 3 (ipykernel)",
   "language": "python",
   "name": "python3"
  },
  "language_info": {
   "codemirror_mode": {
    "name": "ipython",
    "version": 3
   },
   "file_extension": ".py",
   "mimetype": "text/x-python",
   "name": "python",
   "nbconvert_exporter": "python",
   "pygments_lexer": "ipython3",
   "version": "3.7.13"
  }
 },
 "nbformat": 4,
 "nbformat_minor": 5
}
